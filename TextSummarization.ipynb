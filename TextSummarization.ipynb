{
  "nbformat": 4,
  "nbformat_minor": 0,
  "metadata": {
    "colab": {
      "provenance": []
    },
    "kernelspec": {
      "name": "python3",
      "display_name": "Python 3"
    },
    "language_info": {
      "name": "python"
    }
  },
  "cells": [
    {
      "cell_type": "code",
      "execution_count": null,
      "metadata": {
        "id": "gkYAisMOeoud"
      },
      "outputs": [],
      "source": []
    },
    {
      "cell_type": "markdown",
      "source": [
        "Text Summarization"
      ],
      "metadata": {
        "id": "qwa4hG7zez9f"
      }
    },
    {
      "cell_type": "code",
      "source": [
        "text = \"\"\"Sikkim is India’s smallest state, located in the northeastern part of the country.\n",
        "Sikkim is India’s second-least populous state, and it is well-known for its tranquil natural beauty.\n",
        "Because of its clean environment and gorgeous scenery, Sikkim has become a top tourist destination.\n",
        "he Himalayan state of Sikkim is located in the northeastern portion of the Himalayas.\n",
        "It is also valued because it attracts individuals of many religions, castes, and ethnicities.\n",
        "The Naong, Chang, and Mon tribes were the previous inhabitants of Sikkim. Residents from neighbouring countries,\n",
        "on the other hand, gradually became a considerable portion of the population of the state.\n",
        "The Lepchas, a Tibetan Naga tribe, are among the tribal groups, as are the Bhutias, descendants of Tibetan Buddhists, and the Nepalese,\n",
        "descendants of Hindus from Nepal, who now make up a large portion of Sikkim’s population. Mountains,\n",
        "rivers, forests, and other natural components are frequently referred to as God. Sikkim is like a beautiful bouquet,\n",
        "with brilliant colours and the essence of various flowers in the form of seductive folk dances, rituals, and customs from all tribes and castes.\n",
        "Their spectacular religious celebrations are accompanied by the monks’ energetic and fervent ceremonial mask dance.\n",
        "They wear swords and glittering jewellery as they dance to the thunderous drumming and trumpeting of horns, adding to the show’s authenticity.\n",
        "One of the auspicious holidays recognised by Mahayana Buddhists is Saga Dawa. Sikkim may be one of India’s smallest states,\n",
        "yet its philosophy and values are vast. What makes Sikkim so magnificent and powerful is its devotion to the preservation of\n",
        "both nature and the nation’s cultural histories. In terms of prosperity and human development,\n",
        "Indian states may learn a lot from this little state that is outperforming all of the big ones.\"\"\"\n",
        "\n"
      ],
      "metadata": {
        "id": "dHHf0y-ze4oO"
      },
      "execution_count": null,
      "outputs": []
    },
    {
      "cell_type": "code",
      "source": [
        "len(text)"
      ],
      "metadata": {
        "colab": {
          "base_uri": "https://localhost:8080/"
        },
        "id": "nvo1yLkigo-J",
        "outputId": "8e42bd6a-54d0-4c29-85b7-9f15d6560488"
      },
      "execution_count": null,
      "outputs": [
        {
          "output_type": "execute_result",
          "data": {
            "text/plain": [
              "1896"
            ]
          },
          "metadata": {},
          "execution_count": 20
        }
      ]
    },
    {
      "cell_type": "code",
      "source": [
        "import spacy\n",
        "from spacy.lang.en.stop_words import STOP_WORDS\n",
        "from string import punctuation"
      ],
      "metadata": {
        "id": "uJHl8mSZgrNW"
      },
      "execution_count": null,
      "outputs": []
    },
    {
      "cell_type": "code",
      "source": [
        "nlp = spacy.load(\"en_core_web_sm\")"
      ],
      "metadata": {
        "id": "bzAyjKoRhdqQ"
      },
      "execution_count": null,
      "outputs": []
    },
    {
      "cell_type": "code",
      "source": [
        "doc = nlp(text)"
      ],
      "metadata": {
        "id": "-23n55rRh31W"
      },
      "execution_count": null,
      "outputs": []
    },
    {
      "cell_type": "code",
      "source": [
        "tokens = [token.text for token in doc]\n",
        "print(tokens)"
      ],
      "metadata": {
        "colab": {
          "base_uri": "https://localhost:8080/"
        },
        "id": "WxVd0rLtiA-a",
        "outputId": "b4743e05-df3f-47d9-aa68-01722eb9ae9c"
      },
      "execution_count": null,
      "outputs": [
        {
          "output_type": "stream",
          "name": "stdout",
          "text": [
            "['Sikkim', 'is', 'India', '’s', 'smallest', 'state', ',', 'located', 'in', 'the', 'northeastern', 'part', 'of', 'the', 'country', '.', '\\n', 'Sikkim', 'is', 'India', '’s', 'second', '-', 'least', 'populous', 'state', ',', 'and', 'it', 'is', 'well', '-', 'known', 'for', 'its', 'tranquil', 'natural', 'beauty', '.', '\\n', 'Because', 'of', 'its', 'clean', 'environment', 'and', 'gorgeous', 'scenery', ',', 'Sikkim', 'has', 'become', 'a', 'top', 'tourist', 'destination', '.', '\\n', 'he', 'Himalayan', 'state', 'of', 'Sikkim', 'is', 'located', 'in', 'the', 'northeastern', 'portion', 'of', 'the', 'Himalayas', '.', '\\n', 'It', 'is', 'also', 'valued', 'because', 'it', 'attracts', 'individuals', 'of', 'many', 'religions', ',', 'castes', ',', 'and', 'ethnicities', '.', '\\n', 'The', 'Naong', ',', 'Chang', ',', 'and', 'Mon', 'tribes', 'were', 'the', 'previous', 'inhabitants', 'of', 'Sikkim', '.', 'Residents', 'from', 'neighbouring', 'countries', ',', '\\n', 'on', 'the', 'other', 'hand', ',', 'gradually', 'became', 'a', 'considerable', 'portion', 'of', 'the', 'population', 'of', 'the', 'state', '.', '\\n', 'The', 'Lepchas', ',', 'a', 'Tibetan', 'Naga', 'tribe', ',', 'are', 'among', 'the', 'tribal', 'groups', ',', 'as', 'are', 'the', 'Bhutias', ',', 'descendants', 'of', 'Tibetan', 'Buddhists', ',', 'and', 'the', 'Nepalese', ',', '\\n', 'descendants', 'of', 'Hindus', 'from', 'Nepal', ',', 'who', 'now', 'make', 'up', 'a', 'large', 'portion', 'of', 'Sikkim', '’s', 'population', '.', 'Mountains', ',', '\\n', 'rivers', ',', 'forests', ',', 'and', 'other', 'natural', 'components', 'are', 'frequently', 'referred', 'to', 'as', 'God', '.', 'Sikkim', 'is', 'like', 'a', 'beautiful', 'bouquet', ',', '\\n', 'with', 'brilliant', 'colours', 'and', 'the', 'essence', 'of', 'various', 'flowers', 'in', 'the', 'form', 'of', 'seductive', 'folk', 'dances', ',', 'rituals', ',', 'and', 'customs', 'from', 'all', 'tribes', 'and', 'castes', '.', '\\n', 'Their', 'spectacular', 'religious', 'celebrations', 'are', 'accompanied', 'by', 'the', 'monks', '’', 'energetic', 'and', 'fervent', 'ceremonial', 'mask', 'dance', '.', '\\n', 'They', 'wear', 'swords', 'and', 'glittering', 'jewellery', 'as', 'they', 'dance', 'to', 'the', 'thunderous', 'drumming', 'and', 'trumpeting', 'of', 'horns', ',', 'adding', 'to', 'the', 'show', '’s', 'authenticity', '.', '\\n', 'One', 'of', 'the', 'auspicious', 'holidays', 'recognised', 'by', 'Mahayana', 'Buddhists', 'is', 'Saga', 'Dawa', '.', 'Sikkim', 'may', 'be', 'one', 'of', 'India', '’s', 'smallest', 'states', ',', '\\n', 'yet', 'its', 'philosophy', 'and', 'values', 'are', 'vast', '.', 'What', 'makes', 'Sikkim', 'so', 'magnificent', 'and', 'powerful', 'is', 'its', 'devotion', 'to', 'the', 'preservation', 'of', '\\n', 'both', 'nature', 'and', 'the', 'nation', '’s', 'cultural', 'histories', '.', 'In', 'terms', 'of', 'prosperity', 'and', 'human', 'development', ',', '\\n', 'Indian', 'states', 'may', 'learn', 'a', 'lot', 'from', 'this', 'little', 'state', 'that', 'is', 'outperforming', 'all', 'of', 'the', 'big', 'ones', '.']\n"
          ]
        }
      ]
    },
    {
      "cell_type": "code",
      "source": [
        "punctuation = punctuation + '\\n'"
      ],
      "metadata": {
        "id": "5TKADFajpEpF"
      },
      "execution_count": null,
      "outputs": []
    },
    {
      "cell_type": "code",
      "source": [
        "punctuation"
      ],
      "metadata": {
        "colab": {
          "base_uri": "https://localhost:8080/",
          "height": 35
        },
        "id": "3rOQHZArpU_y",
        "outputId": "f657446a-2500-4889-9ffb-2e7346bc33af"
      },
      "execution_count": null,
      "outputs": [
        {
          "output_type": "execute_result",
          "data": {
            "text/plain": [
              "'!\"#$%&\\'()*+,-./:;<=>?@[\\\\]^_`{|}~\\n\\n'"
            ],
            "application/vnd.google.colaboratory.intrinsic+json": {
              "type": "string"
            }
          },
          "metadata": {},
          "execution_count": 38
        }
      ]
    },
    {
      "cell_type": "markdown",
      "source": [
        "Text Cleaning"
      ],
      "metadata": {
        "id": "v_CFmx4UjCTb"
      }
    },
    {
      "cell_type": "code",
      "source": [
        "word_freq = {}\n",
        "stop_words = list(STOP_WORDS)\n",
        "for word in doc:\n",
        "  if word.text.lower() not in stop_words:\n",
        "    if word.text.lower() not in punctuation:\n",
        "      if word.text not in word_freq.keys():\n",
        "        word_freq[word.text] = 1\n",
        "      else:\n",
        "        word_freq[word.text] += 1\n",
        "\n",
        ""
      ],
      "metadata": {
        "id": "LXDuDyFijFES"
      },
      "execution_count": null,
      "outputs": []
    },
    {
      "cell_type": "code",
      "source": [
        "print(word_freq)"
      ],
      "metadata": {
        "colab": {
          "base_uri": "https://localhost:8080/"
        },
        "id": "2J1vDsTOm3Aw",
        "outputId": "c8d04098-a48c-4f79-9889-074329e7da3d"
      },
      "execution_count": null,
      "outputs": [
        {
          "output_type": "stream",
          "name": "stdout",
          "text": [
            "{'Sikkim': 9, 'India': 3, 'smallest': 2, 'state': 5, 'located': 2, 'northeastern': 2, 'country': 1, 'second': 1, 'populous': 1, 'known': 1, 'tranquil': 1, 'natural': 2, 'beauty': 1, 'clean': 1, 'environment': 1, 'gorgeous': 1, 'scenery': 1, 'tourist': 1, 'destination': 1, 'Himalayan': 1, 'portion': 3, 'Himalayas': 1, 'valued': 1, 'attracts': 1, 'individuals': 1, 'religions': 1, 'castes': 2, 'ethnicities': 1, 'Naong': 1, 'Chang': 1, 'Mon': 1, 'tribes': 2, 'previous': 1, 'inhabitants': 1, 'Residents': 1, 'neighbouring': 1, 'countries': 1, 'hand': 1, 'gradually': 1, 'considerable': 1, 'population': 2, 'Lepchas': 1, 'Tibetan': 2, 'Naga': 1, 'tribe': 1, 'tribal': 1, 'groups': 1, 'Bhutias': 1, 'descendants': 2, 'Buddhists': 2, 'Nepalese': 1, 'Hindus': 1, 'Nepal': 1, 'large': 1, 'Mountains': 1, 'rivers': 1, 'forests': 1, 'components': 1, 'frequently': 1, 'referred': 1, 'God': 1, 'like': 1, 'beautiful': 1, 'bouquet': 1, 'brilliant': 1, 'colours': 1, 'essence': 1, 'flowers': 1, 'form': 1, 'seductive': 1, 'folk': 1, 'dances': 1, 'rituals': 1, 'customs': 1, 'spectacular': 1, 'religious': 1, 'celebrations': 1, 'accompanied': 1, 'monks': 1, '’': 1, 'energetic': 1, 'fervent': 1, 'ceremonial': 1, 'mask': 1, 'dance': 2, 'wear': 1, 'swords': 1, 'glittering': 1, 'jewellery': 1, 'thunderous': 1, 'drumming': 1, 'trumpeting': 1, 'horns': 1, 'adding': 1, 'authenticity': 1, 'auspicious': 1, 'holidays': 1, 'recognised': 1, 'Mahayana': 1, 'Saga': 1, 'Dawa': 1, 'states': 2, 'philosophy': 1, 'values': 1, 'vast': 1, 'makes': 1, 'magnificent': 1, 'powerful': 1, 'devotion': 1, 'preservation': 1, 'nature': 1, 'nation': 1, 'cultural': 1, 'histories': 1, 'terms': 1, 'prosperity': 1, 'human': 1, 'development': 1, 'Indian': 1, 'learn': 1, 'lot': 1, 'little': 1, 'outperforming': 1, 'big': 1, 'ones': 1}\n"
          ]
        }
      ]
    },
    {
      "cell_type": "code",
      "source": [
        "max_freq = max(word_freq.values())"
      ],
      "metadata": {
        "id": "T4GgDt3Cm0Qi"
      },
      "execution_count": null,
      "outputs": []
    },
    {
      "cell_type": "code",
      "source": [
        "for word in word_freq.keys():\n",
        "  word_freq[word] = word_freq[word] / max_freq"
      ],
      "metadata": {
        "id": "zTFIz_5BjXmQ"
      },
      "execution_count": null,
      "outputs": []
    },
    {
      "cell_type": "code",
      "source": [
        "print(word_freq)"
      ],
      "metadata": {
        "colab": {
          "base_uri": "https://localhost:8080/"
        },
        "id": "g2OPRrzEruwG",
        "outputId": "170f7b58-0054-4ae8-9550-6ecbd796c876"
      },
      "execution_count": null,
      "outputs": [
        {
          "output_type": "stream",
          "name": "stdout",
          "text": [
            "{'Sikkim': 1.0, 'India': 0.3333333333333333, 'smallest': 0.2222222222222222, 'state': 0.5555555555555556, 'located': 0.2222222222222222, 'northeastern': 0.2222222222222222, 'country': 0.1111111111111111, 'second': 0.1111111111111111, 'populous': 0.1111111111111111, 'known': 0.1111111111111111, 'tranquil': 0.1111111111111111, 'natural': 0.2222222222222222, 'beauty': 0.1111111111111111, 'clean': 0.1111111111111111, 'environment': 0.1111111111111111, 'gorgeous': 0.1111111111111111, 'scenery': 0.1111111111111111, 'tourist': 0.1111111111111111, 'destination': 0.1111111111111111, 'Himalayan': 0.1111111111111111, 'portion': 0.3333333333333333, 'Himalayas': 0.1111111111111111, 'valued': 0.1111111111111111, 'attracts': 0.1111111111111111, 'individuals': 0.1111111111111111, 'religions': 0.1111111111111111, 'castes': 0.2222222222222222, 'ethnicities': 0.1111111111111111, 'Naong': 0.1111111111111111, 'Chang': 0.1111111111111111, 'Mon': 0.1111111111111111, 'tribes': 0.2222222222222222, 'previous': 0.1111111111111111, 'inhabitants': 0.1111111111111111, 'Residents': 0.1111111111111111, 'neighbouring': 0.1111111111111111, 'countries': 0.1111111111111111, 'hand': 0.1111111111111111, 'gradually': 0.1111111111111111, 'considerable': 0.1111111111111111, 'population': 0.2222222222222222, 'Lepchas': 0.1111111111111111, 'Tibetan': 0.2222222222222222, 'Naga': 0.1111111111111111, 'tribe': 0.1111111111111111, 'tribal': 0.1111111111111111, 'groups': 0.1111111111111111, 'Bhutias': 0.1111111111111111, 'descendants': 0.2222222222222222, 'Buddhists': 0.2222222222222222, 'Nepalese': 0.1111111111111111, 'Hindus': 0.1111111111111111, 'Nepal': 0.1111111111111111, 'large': 0.1111111111111111, 'Mountains': 0.1111111111111111, 'rivers': 0.1111111111111111, 'forests': 0.1111111111111111, 'components': 0.1111111111111111, 'frequently': 0.1111111111111111, 'referred': 0.1111111111111111, 'God': 0.1111111111111111, 'like': 0.1111111111111111, 'beautiful': 0.1111111111111111, 'bouquet': 0.1111111111111111, 'brilliant': 0.1111111111111111, 'colours': 0.1111111111111111, 'essence': 0.1111111111111111, 'flowers': 0.1111111111111111, 'form': 0.1111111111111111, 'seductive': 0.1111111111111111, 'folk': 0.1111111111111111, 'dances': 0.1111111111111111, 'rituals': 0.1111111111111111, 'customs': 0.1111111111111111, 'spectacular': 0.1111111111111111, 'religious': 0.1111111111111111, 'celebrations': 0.1111111111111111, 'accompanied': 0.1111111111111111, 'monks': 0.1111111111111111, '’': 0.1111111111111111, 'energetic': 0.1111111111111111, 'fervent': 0.1111111111111111, 'ceremonial': 0.1111111111111111, 'mask': 0.1111111111111111, 'dance': 0.2222222222222222, 'wear': 0.1111111111111111, 'swords': 0.1111111111111111, 'glittering': 0.1111111111111111, 'jewellery': 0.1111111111111111, 'thunderous': 0.1111111111111111, 'drumming': 0.1111111111111111, 'trumpeting': 0.1111111111111111, 'horns': 0.1111111111111111, 'adding': 0.1111111111111111, 'authenticity': 0.1111111111111111, 'auspicious': 0.1111111111111111, 'holidays': 0.1111111111111111, 'recognised': 0.1111111111111111, 'Mahayana': 0.1111111111111111, 'Saga': 0.1111111111111111, 'Dawa': 0.1111111111111111, 'states': 0.2222222222222222, 'philosophy': 0.1111111111111111, 'values': 0.1111111111111111, 'vast': 0.1111111111111111, 'makes': 0.1111111111111111, 'magnificent': 0.1111111111111111, 'powerful': 0.1111111111111111, 'devotion': 0.1111111111111111, 'preservation': 0.1111111111111111, 'nature': 0.1111111111111111, 'nation': 0.1111111111111111, 'cultural': 0.1111111111111111, 'histories': 0.1111111111111111, 'terms': 0.1111111111111111, 'prosperity': 0.1111111111111111, 'human': 0.1111111111111111, 'development': 0.1111111111111111, 'Indian': 0.1111111111111111, 'learn': 0.1111111111111111, 'lot': 0.1111111111111111, 'little': 0.1111111111111111, 'outperforming': 0.1111111111111111, 'big': 0.1111111111111111, 'ones': 0.1111111111111111}\n"
          ]
        }
      ]
    },
    {
      "cell_type": "code",
      "source": [
        "sent_tokens = [sent for sent in doc.sents]\n",
        "print(sent_tokens)"
      ],
      "metadata": {
        "colab": {
          "base_uri": "https://localhost:8080/"
        },
        "id": "NUvQmyfSrw6g",
        "outputId": "ce91d92b-41a9-42e3-eb3d-d41931909b57"
      },
      "execution_count": null,
      "outputs": [
        {
          "output_type": "stream",
          "name": "stdout",
          "text": [
            "[Sikkim is India’s smallest state, located in the northeastern part of the country.\n",
            ", Sikkim is India’s second-least populous state, and it is well-known for its tranquil natural beauty. \n",
            ", Because of its clean environment and gorgeous scenery, Sikkim has become a top tourist destination. \n",
            ", he Himalayan state of Sikkim is located in the northeastern portion of the Himalayas. \n",
            ", It is also valued because it attracts individuals of many religions, castes, and ethnicities. \n",
            ", The Naong, Chang, and Mon tribes were the previous inhabitants of Sikkim., Residents from neighbouring countries, \n",
            "on the other hand, gradually became a considerable portion of the population of the state. \n",
            ", The Lepchas, a Tibetan Naga tribe, are among the tribal groups, as are the Bhutias, descendants of Tibetan Buddhists, and the Nepalese, \n",
            "descendants of Hindus from Nepal, who now make up a large portion of Sikkim’s population., Mountains, \n",
            "rivers, forests, and other natural components are frequently referred to as God., Sikkim is like a beautiful bouquet, \n",
            "with brilliant colours and the essence of various flowers in the form of seductive folk dances, rituals, and customs from all tribes and castes. \n",
            ", Their spectacular religious celebrations are accompanied by the monks’ energetic and fervent ceremonial mask dance. \n",
            ", They wear swords and glittering jewellery as they dance to the thunderous drumming and trumpeting of horns, adding to the show’s authenticity. \n",
            ", One of the auspicious holidays recognised by Mahayana Buddhists is Saga Dawa., Sikkim may be one of India’s smallest states, \n",
            "yet its philosophy and values are vast., What makes Sikkim so magnificent and powerful is its devotion to the preservation of \n",
            "both nature and the nation’s cultural histories., In terms of prosperity and human development, \n",
            "Indian states may learn a lot from this little state that is outperforming all of the big ones.]\n"
          ]
        }
      ]
    },
    {
      "cell_type": "code",
      "source": [
        "sent_score = {}\n",
        "\n",
        "for sent in sent_tokens:\n",
        "  for word in sent:\n",
        "    if word.text.lower() in word_freq.keys():\n",
        "      if sent not in sent_score.keys():\n",
        "        sent_score[sent] = word_freq[word.text.lower()]\n",
        "      else:\n",
        "        sent_score[sent] += word_freq[word.text.lower()]"
      ],
      "metadata": {
        "id": "0Olzo9b0sYq4"
      },
      "execution_count": null,
      "outputs": []
    },
    {
      "cell_type": "code",
      "source": [
        "print(sent_score)"
      ],
      "metadata": {
        "colab": {
          "base_uri": "https://localhost:8080/"
        },
        "id": "xxAfqXaRtTAR",
        "outputId": "c8d7da43-d891-4268-b8bf-e864f55d8f97"
      },
      "execution_count": null,
      "outputs": [
        {
          "output_type": "stream",
          "name": "stdout",
          "text": [
            "{Sikkim is India’s smallest state, located in the northeastern part of the country.\n",
            ": 1.3333333333333335, Sikkim is India’s second-least populous state, and it is well-known for its tranquil natural beauty. \n",
            ": 1.3333333333333335, Because of its clean environment and gorgeous scenery, Sikkim has become a top tourist destination. \n",
            ": 0.6666666666666667, he Himalayan state of Sikkim is located in the northeastern portion of the Himalayas. \n",
            ": 1.3333333333333333, It is also valued because it attracts individuals of many religions, castes, and ethnicities. \n",
            ": 0.7777777777777777, The Naong, Chang, and Mon tribes were the previous inhabitants of Sikkim.: 0.4444444444444444, Residents from neighbouring countries, \n",
            "on the other hand, gradually became a considerable portion of the population of the state. \n",
            ": 1.6666666666666667, The Lepchas, a Tibetan Naga tribe, are among the tribal groups, as are the Bhutias, descendants of Tibetan Buddhists, and the Nepalese, \n",
            "descendants of Hindus from Nepal, who now make up a large portion of Sikkim’s population.: 1.4444444444444442, Mountains, \n",
            "rivers, forests, and other natural components are frequently referred to as God.: 0.7777777777777779, Sikkim is like a beautiful bouquet, \n",
            "with brilliant colours and the essence of various flowers in the form of seductive folk dances, rituals, and customs from all tribes and castes. \n",
            ": 1.8888888888888893, Their spectacular religious celebrations are accompanied by the monks’ energetic and fervent ceremonial mask dance. \n",
            ": 1.3333333333333335, They wear swords and glittering jewellery as they dance to the thunderous drumming and trumpeting of horns, adding to the show’s authenticity. \n",
            ": 1.3333333333333335, One of the auspicious holidays recognised by Mahayana Buddhists is Saga Dawa.: 0.3333333333333333, Sikkim may be one of India’s smallest states, \n",
            "yet its philosophy and values are vast.: 0.7777777777777779, What makes Sikkim so magnificent and powerful is its devotion to the preservation of \n",
            "both nature and the nation’s cultural histories.: 1.0000000000000002, In terms of prosperity and human development, \n",
            "Indian states may learn a lot from this little state that is outperforming all of the big ones.: 1.888888888888889}\n"
          ]
        }
      ]
    },
    {
      "cell_type": "code",
      "source": [
        "from heapq import nlargest"
      ],
      "metadata": {
        "id": "vSgYQGmGvUZ_"
      },
      "execution_count": null,
      "outputs": []
    },
    {
      "cell_type": "code",
      "source": [
        "len(sent_score) * 0.3"
      ],
      "metadata": {
        "colab": {
          "base_uri": "https://localhost:8080/"
        },
        "id": "kL8kEVj_wWwB",
        "outputId": "55f7178f-c1be-471b-d3d8-36d2ef958693"
      },
      "execution_count": null,
      "outputs": [
        {
          "output_type": "execute_result",
          "data": {
            "text/plain": [
              "4.8"
            ]
          },
          "metadata": {},
          "execution_count": 53
        }
      ]
    },
    {
      "cell_type": "code",
      "source": [
        "5"
      ],
      "metadata": {
        "colab": {
          "base_uri": "https://localhost:8080/"
        },
        "id": "yNxUXWrIwqzc",
        "outputId": "692231e6-fd1c-45cc-e098-f5806e93a7f8"
      },
      "execution_count": null,
      "outputs": [
        {
          "output_type": "execute_result",
          "data": {
            "text/plain": [
              "5"
            ]
          },
          "metadata": {},
          "execution_count": 54
        }
      ]
    },
    {
      "cell_type": "code",
      "source": [
        "summary = nlargest(5, iterable = sent_score, key = sent_score.get)"
      ],
      "metadata": {
        "id": "C2DkD1PJwzab"
      },
      "execution_count": null,
      "outputs": []
    },
    {
      "cell_type": "code",
      "source": [
        "print(summary)"
      ],
      "metadata": {
        "colab": {
          "base_uri": "https://localhost:8080/"
        },
        "id": "3PKGkn6dxRwX",
        "outputId": "17ae4fbd-f3b5-452b-e58c-7ea19835c792"
      },
      "execution_count": null,
      "outputs": [
        {
          "output_type": "stream",
          "name": "stdout",
          "text": [
            "[Sikkim is like a beautiful bouquet, \n",
            "with brilliant colours and the essence of various flowers in the form of seductive folk dances, rituals, and customs from all tribes and castes. \n",
            ", In terms of prosperity and human development, \n",
            "Indian states may learn a lot from this little state that is outperforming all of the big ones., Residents from neighbouring countries, \n",
            "on the other hand, gradually became a considerable portion of the population of the state. \n",
            ", The Lepchas, a Tibetan Naga tribe, are among the tribal groups, as are the Bhutias, descendants of Tibetan Buddhists, and the Nepalese, \n",
            "descendants of Hindus from Nepal, who now make up a large portion of Sikkim’s population., Sikkim is India’s smallest state, located in the northeastern part of the country.\n",
            "]\n"
          ]
        }
      ]
    },
    {
      "cell_type": "code",
      "source": [
        "final_summary = [word.text for word in summary]"
      ],
      "metadata": {
        "id": "vi5xCQz4xT76"
      },
      "execution_count": null,
      "outputs": []
    },
    {
      "cell_type": "code",
      "source": [
        "print(final_summary)"
      ],
      "metadata": {
        "colab": {
          "base_uri": "https://localhost:8080/"
        },
        "id": "B43IZ4-IxvCs",
        "outputId": "05eb9a3c-0b90-4f66-9cdd-2c41c7108923"
      },
      "execution_count": null,
      "outputs": [
        {
          "output_type": "stream",
          "name": "stdout",
          "text": [
            "['Sikkim is like a beautiful bouquet, \\nwith brilliant colours and the essence of various flowers in the form of seductive folk dances, rituals, and customs from all tribes and castes. \\n', 'In terms of prosperity and human development, \\nIndian states may learn a lot from this little state that is outperforming all of the big ones.', 'Residents from neighbouring countries, \\non the other hand, gradually became a considerable portion of the population of the state. \\n', 'The Lepchas, a Tibetan Naga tribe, are among the tribal groups, as are the Bhutias, descendants of Tibetan Buddhists, and the Nepalese, \\ndescendants of Hindus from Nepal, who now make up a large portion of Sikkim’s population.', 'Sikkim is India’s smallest state, located in the northeastern part of the country.\\n']\n"
          ]
        }
      ]
    },
    {
      "cell_type": "code",
      "source": [
        "summary = \" \".join(final_summary)"
      ],
      "metadata": {
        "id": "HUOcV0kIxxxg"
      },
      "execution_count": null,
      "outputs": []
    },
    {
      "cell_type": "code",
      "source": [
        "print(summary)"
      ],
      "metadata": {
        "colab": {
          "base_uri": "https://localhost:8080/"
        },
        "id": "BBkzQtjRyA9R",
        "outputId": "38d34608-c18e-47c7-844a-f24aa31cb84c"
      },
      "execution_count": null,
      "outputs": [
        {
          "output_type": "stream",
          "name": "stdout",
          "text": [
            "Sikkim is like a beautiful bouquet, \n",
            "with brilliant colours and the essence of various flowers in the form of seductive folk dances, rituals, and customs from all tribes and castes. \n",
            " In terms of prosperity and human development, \n",
            "Indian states may learn a lot from this little state that is outperforming all of the big ones. Residents from neighbouring countries, \n",
            "on the other hand, gradually became a considerable portion of the population of the state. \n",
            " The Lepchas, a Tibetan Naga tribe, are among the tribal groups, as are the Bhutias, descendants of Tibetan Buddhists, and the Nepalese, \n",
            "descendants of Hindus from Nepal, who now make up a large portion of Sikkim’s population. Sikkim is India’s smallest state, located in the northeastern part of the country.\n",
            "\n"
          ]
        }
      ]
    },
    {
      "cell_type": "code",
      "source": [
        "len(summary)"
      ],
      "metadata": {
        "colab": {
          "base_uri": "https://localhost:8080/"
        },
        "id": "z6AslJSjyDCI",
        "outputId": "3b25467c-916e-424e-87a7-4dcc097357a0"
      },
      "execution_count": null,
      "outputs": [
        {
          "output_type": "execute_result",
          "data": {
            "text/plain": [
              "770"
            ]
          },
          "metadata": {},
          "execution_count": 62
        }
      ]
    },
    {
      "cell_type": "code",
      "source": [
        "len(summary) / len(text)"
      ],
      "metadata": {
        "colab": {
          "base_uri": "https://localhost:8080/"
        },
        "id": "h3HKd87QyOkX",
        "outputId": "0e6886c2-0673-48b5-c76b-7070ba0f622b"
      },
      "execution_count": null,
      "outputs": [
        {
          "output_type": "execute_result",
          "data": {
            "text/plain": [
              "0.4095744680851064"
            ]
          },
          "metadata": {},
          "execution_count": 63
        }
      ]
    },
    {
      "cell_type": "code",
      "source": [],
      "metadata": {
        "id": "zNjOu34tyU9_"
      },
      "execution_count": null,
      "outputs": []
    }
  ]
}